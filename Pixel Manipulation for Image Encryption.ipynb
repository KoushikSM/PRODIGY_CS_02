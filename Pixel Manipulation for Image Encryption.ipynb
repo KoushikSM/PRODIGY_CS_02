{
 "cells": [
  {
   "cell_type": "code",
   "execution_count": 16,
   "id": "b7b785d8",
   "metadata": {},
   "outputs": [
    {
     "name": "stdout",
     "output_type": "stream",
     "text": [
      "Enter the path to the image file: C:\\Users\\USER\\Pictures\\Saved Pictures\\wallpaper 1.png\n",
      "Enter the key: 10\n",
      "Image encrypted successfully\n",
      "Image decrypted successfully\n"
     ]
    }
   ],
   "source": [
    "from PIL import Image\n",
    "\n",
    "def encrypt_image(image_path, key):\n",
    "    img = Image.open(image_path)\n",
    "    width, height = img.size\n",
    "    pixels = img.load()\n",
    "    for i in range(width):\n",
    "        for j in range(height):\n",
    "            pixel_value = pixels[i, j]\n",
    "            if isinstance(pixel_value, int):  # Handle grayscale images\n",
    "                pixel_value = (pixel_value, pixel_value, pixel_value)\n",
    "            r, g, b = pixel_value[:3]\n",
    "            r = r ^ key\n",
    "            b = b ^ key\n",
    "            pixels[i, j] = (r, g, b)\n",
    "    img.save(\"Encrypted_img.png\")\n",
    "    print(\"Image encrypted successfully\")\n",
    "\n",
    "def decrypt_image(image_path, key):\n",
    "    img = Image.open(image_path)\n",
    "    width, height = img.size\n",
    "    pixels = img.load()\n",
    "    for i in range(width):\n",
    "        for j in range(height):\n",
    "            pixel_value = pixels[i, j]\n",
    "            if isinstance(pixel_value, int):  # Handle grayscale images\n",
    "                pixel_value = (pixel_value, pixel_value, pixel_value)\n",
    "            r, g, b = pixel_value[:3]\n",
    "            r = r ^ key\n",
    "            b = b ^ key\n",
    "            pixels[i, j] = (r, g, b)\n",
    "    img.save(\"Decrypted_image.png\")\n",
    "    print(\"Image decrypted successfully\")\n",
    "\n",
    "def main():\n",
    "    image_path = input(\"Enter the path to the image file: \")\n",
    "    key = int(input(\"Enter the key: \"))\n",
    "    encrypt_image(image_path, key)\n",
    "    decrypt_image(\"Encrypted_img.png\", key)\n",
    "\n",
    "if __name__ == \"__main__\":\n",
    "    main()\n"
   ]
  },
  {
   "cell_type": "code",
   "execution_count": null,
   "id": "b7182f43",
   "metadata": {},
   "outputs": [],
   "source": []
  }
 ],
 "metadata": {
  "kernelspec": {
   "display_name": "Python 3 (ipykernel)",
   "language": "python",
   "name": "python3"
  },
  "language_info": {
   "codemirror_mode": {
    "name": "ipython",
    "version": 3
   },
   "file_extension": ".py",
   "mimetype": "text/x-python",
   "name": "python",
   "nbconvert_exporter": "python",
   "pygments_lexer": "ipython3",
   "version": "3.11.4"
  }
 },
 "nbformat": 4,
 "nbformat_minor": 5
}
